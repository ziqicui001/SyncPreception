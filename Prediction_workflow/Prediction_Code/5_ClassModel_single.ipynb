{
 "cells": [
  {
   "cell_type": "code",
   "execution_count": 1,
   "id": "01a88c47-7303-4dc6-8d4a-a736e8684788",
   "metadata": {},
   "outputs": [],
   "source": [
    "import os\n",
    "import torch\n",
    "import torch.nn.functional as F\n",
    "from torch_geometric.loader import DataLoader\n",
    "from torch_geometric.data import Data\n",
    "from torch.nn import Linear\n",
    "from torch_geometric.nn import GATConv, global_mean_pool\n",
    "from torch_geometric.nn import SAGEConv\n",
    "from torch_geometric.nn import GINConv\n",
    "import logging\n",
    "import warnings\n",
    "warnings.simplefilter(action='ignore', category=FutureWarning)"
   ]
  },
  {
   "cell_type": "code",
   "execution_count": 2,
   "id": "7f9ff56a-2ecd-4abf-8cce-e46da84d1eeb",
   "metadata": {},
   "outputs": [],
   "source": [
    "device = torch.device('cpu')"
   ]
  },
  {
   "cell_type": "code",
   "execution_count": 3,
   "id": "a2846bf4-0dbf-4448-ab1d-89644470643d",
   "metadata": {},
   "outputs": [
    {
     "data": {
      "text/plain": [
       "GNN(\n",
       "  (initial_conv): SAGEConv(15, 64, aggr=mean)\n",
       "  (conv1): SAGEConv(64, 64, aggr=mean)\n",
       "  (conv2): SAGEConv(64, 64, aggr=mean)\n",
       "  (dropout): Dropout(p=0.3, inplace=False)\n",
       "  (out): Linear(in_features=64, out_features=5, bias=True)\n",
       ")"
      ]
     },
     "execution_count": 3,
     "metadata": {},
     "output_type": "execute_result"
    }
   ],
   "source": [
    "class GNN(torch.nn.Module):\n",
    "    def __init__(self, num_features=15 , embedding_size=64, dropout_rate=0.3, num_classes=5):\n",
    "        super(GNN, self).__init__()\n",
    "        self.initial_conv = SAGEConv(num_features, embedding_size)\n",
    "        self.conv1 = SAGEConv(embedding_size, embedding_size)\n",
    "        self.conv2 = SAGEConv(embedding_size, embedding_size)  # 新增的一层\n",
    "        self.dropout = torch.nn.Dropout(p=dropout_rate)\n",
    "        self.out = Linear(embedding_size, num_classes)\n",
    "\n",
    "    def forward(self, x, edge_index, batch):\n",
    "        x = F.relu(self.initial_conv(x, edge_index))\n",
    "        x = self.dropout(x)  # 加入正则化\n",
    "        x = F.relu(self.conv1(x, edge_index))\n",
    "        x = self.dropout(x)  # 加入正则化\n",
    "        x = F.relu(self.conv2(x, edge_index))  # 新增的一层\n",
    "        x = self.dropout(x)  # 加入正则化\n",
    "        x = global_mean_pool(x, batch)  # 聚合节点特征到图级特征\n",
    "        x = self.out(x)\n",
    "        return x\n",
    "    \n",
    "# 加载完整的模型\n",
    "complete_model_save_path = 'C_model/complete_model_depression.pth'\n",
    "model = torch.load(complete_model_save_path, map_location=device)\n",
    "\n",
    "# 将模型设置为评估模式\n",
    "model.eval()    "
   ]
  },
  {
   "cell_type": "code",
   "execution_count": 5,
   "id": "9a7283e3-e2ba-4963-9d1f-6c036c76028f",
   "metadata": {},
   "outputs": [
    {
     "name": "stdout",
     "output_type": "stream",
     "text": [
      "Predicted classes: [3]\n"
     ]
    }
   ],
   "source": [
    "def predict_from_graph(graph_load_path, model):\n",
    "    try:\n",
    "        logging.info(f\"Trying to load graph data from: {graph_load_path}\")\n",
    "        \n",
    "        # 检查文件是否存在\n",
    "        if not os.path.exists(graph_load_path):\n",
    "            logging.error(\"Graph file does not exist.\")\n",
    "            return None\n",
    "\n",
    "        # 加载图数据\n",
    "        standardized_graph = torch.load(graph_load_path)\n",
    "        logging.info(f\"Standardized graph data loaded from {graph_load_path}\")\n",
    "\n",
    "        # 创建DataLoader\n",
    "        data_list = [standardized_graph]\n",
    "        data_loader = DataLoader(data_list, batch_size=1, shuffle=False)\n",
    "\n",
    "        # 预测\n",
    "        model.to(device)\n",
    "        predictions = []\n",
    "        for data in data_loader:\n",
    "            data = data.to(device)\n",
    "            with torch.no_grad():\n",
    "                output = model(data.x, data.edge_index, data.batch)\n",
    "                predicted_class = torch.argmax(output, dim=1).item()  # 提取预测的类别\n",
    "            predictions.append(predicted_class)\n",
    "\n",
    "        logging.info(f\"Prediction results: {predictions}\")\n",
    "        return predictions\n",
    "\n",
    "    except Exception as e:\n",
    "        logging.error(f\"Error in prediction: {e}\")\n",
    "        raise\n",
    "\n",
    "if __name__ == \"__main__\":\n",
    "    # 加载预训练模型\n",
    "    model_path = 'C_model/complete_model_depression.pth'\n",
    "    model = torch.load(model_path, map_location=device)\n",
    "    model.eval()\n",
    "\n",
    "    # 指定图数据的路径\n",
    "    #graph_load_path = \"tt/2.2_1.pt\"\n",
    "    #graph_load_path = \"513d6902fdc9f03587004592.pt\"\n",
    "\n",
    "    # 进行预测\n",
    "    predictions = predict_from_graph(graph_load_path, model)\n",
    "    if predictions is not None:\n",
    "        print(f\"Predicted classes: {predictions}\")"
   ]
  },
  {
   "cell_type": "code",
   "execution_count": null,
   "id": "aaa1312e-e67f-4ee3-b95c-4b119130cb39",
   "metadata": {},
   "outputs": [],
   "source": [
    "#  beautiful, safe, depression, wealthy, boring,"
   ]
  },
  {
   "cell_type": "code",
   "execution_count": null,
   "id": "cf7f1384-e2c4-4410-b317-ba1cbca1bd8d",
   "metadata": {},
   "outputs": [],
   "source": []
  }
 ],
 "metadata": {
  "kernelspec": {
   "display_name": "RL",
   "language": "python",
   "name": "rl"
  },
  "language_info": {
   "codemirror_mode": {
    "name": "ipython",
    "version": 3
   },
   "file_extension": ".py",
   "mimetype": "text/x-python",
   "name": "python",
   "nbconvert_exporter": "python",
   "pygments_lexer": "ipython3",
   "version": "3.9.16"
  }
 },
 "nbformat": 4,
 "nbformat_minor": 5
}
